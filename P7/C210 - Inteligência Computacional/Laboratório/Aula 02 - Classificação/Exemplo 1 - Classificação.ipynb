{
 "cells": [
  {
   "cell_type": "markdown",
   "metadata": {
    "colab_type": "text",
    "id": "FN4IIFJ8tCqi"
   },
   "source": [
    "# Primeiro modelo de Classificação\n"
   ]
  },
  {
   "cell_type": "markdown",
   "metadata": {
    "colab_type": "text",
    "id": "DaikLcNEqeWe"
   },
   "source": [
    "## Importação dos dados"
   ]
  },
  {
   "cell_type": "code",
   "execution_count": 1,
   "metadata": {
    "colab": {},
    "colab_type": "code",
    "id": "AvK5d6bqkttS"
   },
   "outputs": [],
   "source": [
    "import pandas as pd\n",
    "\n",
    "data = pd.read_csv(\"classificacao_animal.csv\")\n",
    "\n",
    "x_data = data[[\"pelo_longo\", \"perna_curta\", \"late\"]]\n",
    "y_data = data[\"animal\"]"
   ]
  },
  {
   "cell_type": "markdown",
   "metadata": {
    "colab_type": "text",
    "id": "8iYF2ZdB616b"
   },
   "source": [
    "## Breve Análise Exploratória"
   ]
  },
  {
   "cell_type": "code",
   "execution_count": 2,
   "metadata": {
    "colab": {
     "base_uri": "https://localhost:8080/",
     "height": 281
    },
    "colab_type": "code",
    "id": "R3zTwSFQ61J9",
    "outputId": "03c910c2-9db7-4092-9d53-3d888b945990"
   },
   "outputs": [
    {
     "data": {
      "image/png": "[encoded data removed]",
      "text/plain": [
       "<Figure size 432x288 with 1 Axes>"
      ]
     },
     "metadata": {
      "needs_background": "light"
     },
     "output_type": "display_data"
    }
   ],
   "source": [
    "import matplotlib.pyplot as plt\n",
    "\n",
    "\n",
    "plt.hist(y_data)\n",
    "plt.title(\"Quantidade de animais\")\n",
    "plt.show()"
   ]
  },
  {
   "cell_type": "markdown",
   "metadata": {
    "colab_type": "text",
    "id": "AsLgFhVcqk2D"
   },
   "source": [
    "## Criação e Treinamento do Modelo"
   ]
  },
  {
   "cell_type": "code",
   "execution_count": 3,
   "metadata": {
    "colab": {
     "base_uri": "https://localhost:8080/",
     "height": 85
    },
    "colab_type": "code",
    "id": "qga3zsQRYu67",
    "outputId": "75158be4-ff56-498c-b694-926cb4f9e596"
   },
   "outputs": [
    {
     "data": {
      "text/plain": [
       "LinearSVC()"
      ]
     },
     "execution_count": 3,
     "metadata": {},
     "output_type": "execute_result"
    }
   ],
   "source": [
    "from sklearn.svm import LinearSVC\n",
    "# https://scikit-learn.org/stable/modules/generated/sklearn.svm.LinearSVC.html\n",
    "\n",
    "modelo = LinearSVC()\n",
    "modelo.fit(x_data, y_data)"
   ]
  },
  {
   "cell_type": "markdown",
   "metadata": {
    "colab_type": "text",
    "id": "3WdEV-6htqZc"
   },
   "source": [
    "## Avaliação do Modelo"
   ]
  },
  {
   "cell_type": "code",
   "execution_count": 4,
   "metadata": {
    "colab": {
     "base_uri": "https://localhost:8080/",
     "height": 34
    },
    "colab_type": "code",
    "id": "3p26382-twLi",
    "outputId": "5a8c551b-3d0f-4894-d9c9-10093f4dafbe"
   },
   "outputs": [
    {
     "name": "stdout",
     "output_type": "stream",
     "text": [
      "Taxa de acerto: 100.0%\n"
     ]
    }
   ],
   "source": [
    "import numpy as np\n",
    "\n",
    "data_teste = [\n",
    "    {\"pelo_longo\": 1, \"perna_curta\": 1, \"late\": 1},\n",
    "    {\"pelo_longo\": 1, \"perna_curta\": 0, \"late\": 1},\n",
    "    {\"pelo_longo\": 0, \"perna_curta\": 1, \"late\": 0},\n",
    "    {\"pelo_longo\": 1, \"perna_curta\": 1, \"late\": 0}\n",
    "]\n",
    "data_teste = pd.DataFrame(data_teste)\n",
    "res_teste = np.array([\"cachorro\", \"cachorro\", \"porco\", \"porco\"])\n",
    "\n",
    "teste_predict = modelo.predict(data_teste)\n",
    "\n",
    "taxa_acerto = (teste_predict == res_teste).sum() / len(data_teste) * 100\n",
    "print(f\"Taxa de acerto: {taxa_acerto}%\")\n"
   ]
  },
  {
   "cell_type": "code",
   "execution_count": null,
   "metadata": {},
   "outputs": [],
   "source": []
  }
 ],
 "metadata": {
  "colab": {
   "collapsed_sections": [
    "DaikLcNEqeWe",
    "8iYF2ZdB616b",
    "AsLgFhVcqk2D",
    "3WdEV-6htqZc"
   ],
   "name": "Aula_Classificação_modelo1.ipynb",
   "provenance": [],
   "toc_visible": true
  },
  "kernelspec": {
   "display_name": "Python 3",
   "language": "python",
   "name": "python3"
  },
  "language_info": {
   "codemirror_mode": {
    "name": "ipython",
    "version": 3
   },
   "file_extension": ".py",
   "mimetype": "text/x-python",
   "name": "python",
   "nbconvert_exporter": "python",
   "pygments_lexer": "ipython3",
   "version": "3.7.5"
  }
 },
 "nbformat": 4,
 "nbformat_minor": 1
}
