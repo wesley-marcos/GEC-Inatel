{
 "cells": [
  {
   "cell_type": "markdown",
   "metadata": {},
   "source": [
    "## Machine Learning: Regressão"
   ]
  },
  {
   "cell_type": "markdown",
   "metadata": {},
   "source": [
    "Predição de valor de imóvel para a cidade de Boston"
   ]
  },
  {
   "cell_type": "markdown",
   "metadata": {},
   "source": [
    "### 1º Importação dos dados"
   ]
  },
  {
   "cell_type": "code",
   "execution_count": 36,
   "metadata": {},
   "outputs": [
    {
     "name": "stderr",
     "output_type": "stream",
     "text": [
      "C:\\Users\\Wesley\\AppData\\Local\\Temp\\ipykernel_9640\\2395155834.py:5: DeprecationWarning: Importing display from IPython.core.display is deprecated since IPython 7.14, please import from IPython display\n",
      "  from IPython.core.display import display, HTML\n"
     ]
    }
   ],
   "source": [
    "# Feito por: WESLEY MARCOS BORGES - GEC - 1651\n",
    "\n",
    "# bibliotecas numericas numpy, pandas e para plot matplotlib e seaborn\n",
    "import numpy as np\n",
    "import pandas as pd\n",
    "import matplotlib.pyplot as plt\n",
    "import seaborn as sns\n",
    "from IPython.core.display import display, HTML\n",
    "sns.set_style('darkgrid')"
   ]
  },
  {
   "cell_type": "code",
   "execution_count": 37,
   "metadata": {},
   "outputs": [],
   "source": [
    "from sklearn.datasets import load_diabetes\n",
    "\n",
    "diabetes_dataset = load_diabetes()"
   ]
  },
  {
   "cell_type": "markdown",
   "metadata": {},
   "source": [
    "#### Descrição dos objetos"
   ]
  },
  {
   "cell_type": "code",
   "execution_count": 38,
   "metadata": {},
   "outputs": [
    {
     "name": "stdout",
     "output_type": "stream",
     "text": [
      "Nomes das variáveis quantitativas (atributos) ['age', 'sex', 'bmi', 'bp', 's1', 's2', 's3', 's4', 's5', 's6']\n",
      "\n",
      "Descrição .. _diabetes_dataset:\n",
      "\n",
      "Diabetes dataset\n",
      "----------------\n",
      "\n",
      "Ten baseline variables, age, sex, body mass index, average blood\n",
      "pressure, and six blood serum measurements were obtained for each of n =\n",
      "442 diabetes patients, as well as the response of interest, a\n",
      "quantitative measure of disease progression one year after baseline.\n",
      "\n",
      "**Data Set Characteristics:**\n",
      "\n",
      "  :Number of Instances: 442\n",
      "\n",
      "  :Number of Attributes: First 10 columns are numeric predictive values\n",
      "\n",
      "  :Target: Column 11 is a quantitative measure of disease progression one year after baseline\n",
      "\n",
      "  :Attribute Information:\n",
      "      - age     age in years\n",
      "      - sex\n",
      "      - bmi     body mass index\n",
      "      - bp      average blood pressure\n",
      "      - s1      tc, total serum cholesterol\n",
      "      - s2      ldl, low-density lipoproteins\n",
      "      - s3      hdl, high-density lipoproteins\n",
      "      - s4      tch, total cholesterol / HDL\n",
      "      - s5      ltg, possibly log of serum triglycerides level\n",
      "      - s6      glu, blood sugar level\n",
      "\n",
      "Note: Each of these 10 feature variables have been mean centered and scaled by the standard deviation times `n_samples` (i.e. the sum of squares of each column totals 1).\n",
      "\n",
      "Source URL:\n",
      "https://www4.stat.ncsu.edu/~boos/var.select/diabetes.html\n",
      "\n",
      "For more information see:\n",
      "Bradley Efron, Trevor Hastie, Iain Johnstone and Robert Tibshirani (2004) \"Least Angle Regression,\" Annals of Statistics (with discussion), 407-499.\n",
      "(https://web.stanford.edu/~hastie/Papers/LARS/LeastAngle_2002.pdf)\n",
      "\n",
      "Variáveis quantitativas [[ 0.03807591  0.05068012  0.06169621 ... -0.00259226  0.01990842\n",
      "  -0.01764613]\n",
      " [-0.00188202 -0.04464164 -0.05147406 ... -0.03949338 -0.06832974\n",
      "  -0.09220405]\n",
      " [ 0.08529891  0.05068012  0.04445121 ... -0.00259226  0.00286377\n",
      "  -0.02593034]\n",
      " ...\n",
      " [ 0.04170844  0.05068012 -0.01590626 ... -0.01107952 -0.04687948\n",
      "   0.01549073]\n",
      " [-0.04547248 -0.04464164  0.03906215 ...  0.02655962  0.04452837\n",
      "  -0.02593034]\n",
      " [-0.04547248 -0.04464164 -0.0730303  ... -0.03949338 -0.00421986\n",
      "   0.00306441]]\n",
      "\n",
      "Variáveis qualitativas [151.  75. 141. 206. 135.  97. 138.  63. 110. 310. 101.  69. 179. 185.\n",
      " 118. 171. 166. 144.  97. 168.  68.  49.  68. 245. 184. 202. 137.  85.\n",
      " 131. 283. 129.  59. 341.  87.  65. 102. 265. 276. 252.  90. 100.  55.\n",
      "  61.  92. 259.  53. 190. 142.  75. 142. 155. 225.  59. 104. 182. 128.\n",
      "  52.  37. 170. 170.  61. 144.  52. 128.  71. 163. 150.  97. 160. 178.\n",
      "  48. 270. 202. 111.  85.  42. 170. 200. 252. 113. 143.  51.  52. 210.\n",
      "  65. 141.  55. 134.  42. 111.  98. 164.  48.  96.  90. 162. 150. 279.\n",
      "  92.  83. 128. 102. 302. 198.  95.  53. 134. 144. 232.  81. 104.  59.\n",
      " 246. 297. 258. 229. 275. 281. 179. 200. 200. 173. 180.  84. 121. 161.\n",
      "  99. 109. 115. 268. 274. 158. 107.  83. 103. 272.  85. 280. 336. 281.\n",
      " 118. 317. 235.  60. 174. 259. 178. 128.  96. 126. 288.  88. 292.  71.\n",
      " 197. 186.  25.  84.  96. 195.  53. 217. 172. 131. 214.  59.  70. 220.\n",
      " 268. 152.  47.  74. 295. 101. 151. 127. 237. 225.  81. 151. 107.  64.\n",
      " 138. 185. 265. 101. 137. 143. 141.  79. 292. 178.  91. 116.  86. 122.\n",
      "  72. 129. 142.  90. 158.  39. 196. 222. 277.  99. 196. 202. 155.  77.\n",
      " 191.  70.  73.  49.  65. 263. 248. 296. 214. 185.  78.  93. 252. 150.\n",
      "  77. 208.  77. 108. 160.  53. 220. 154. 259.  90. 246. 124.  67.  72.\n",
      " 257. 262. 275. 177.  71.  47. 187. 125.  78.  51. 258. 215. 303. 243.\n",
      "  91. 150. 310. 153. 346.  63.  89.  50.  39. 103. 308. 116. 145.  74.\n",
      "  45. 115. 264.  87. 202. 127. 182. 241.  66.  94. 283.  64. 102. 200.\n",
      " 265.  94. 230. 181. 156. 233.  60. 219.  80.  68. 332. 248.  84. 200.\n",
      "  55.  85.  89.  31. 129.  83. 275.  65. 198. 236. 253. 124.  44. 172.\n",
      " 114. 142. 109. 180. 144. 163. 147.  97. 220. 190. 109. 191. 122. 230.\n",
      " 242. 248. 249. 192. 131. 237.  78. 135. 244. 199. 270. 164.  72.  96.\n",
      " 306.  91. 214.  95. 216. 263. 178. 113. 200. 139. 139.  88. 148.  88.\n",
      " 243.  71.  77. 109. 272.  60.  54. 221.  90. 311. 281. 182. 321.  58.\n",
      " 262. 206. 233. 242. 123. 167.  63. 197.  71. 168. 140. 217. 121. 235.\n",
      " 245.  40.  52. 104. 132.  88.  69. 219.  72. 201. 110.  51. 277.  63.\n",
      " 118.  69. 273. 258.  43. 198. 242. 232. 175.  93. 168. 275. 293. 281.\n",
      "  72. 140. 189. 181. 209. 136. 261. 113. 131. 174. 257.  55.  84.  42.\n",
      " 146. 212. 233.  91. 111. 152. 120.  67. 310.  94. 183.  66. 173.  72.\n",
      "  49.  64.  48. 178. 104. 132. 220.  57.]\n"
     ]
    }
   ],
   "source": [
    "print('Nomes das variáveis quantitativas (atributos)', diabetes_dataset.feature_names)\n",
    "print()\n",
    "print('Descrição', diabetes_dataset.DESCR)\n",
    "print()\n",
    "print('Variáveis quantitativas', diabetes_dataset.data)\n",
    "print()\n",
    "print('Variáveis qualitativas', diabetes_dataset.target)"
   ]
  },
  {
   "cell_type": "code",
   "execution_count": 39,
   "metadata": {},
   "outputs": [
    {
     "name": "stdout",
     "output_type": "stream",
     "text": [
      "        age       sex       bmi        bp        s1        s2        s3  \\\n",
      "0  0.038076  0.050680  0.061696  0.021872 -0.044223 -0.034821 -0.043401   \n",
      "1 -0.001882 -0.044642 -0.051474 -0.026328 -0.008449 -0.019163  0.074412   \n",
      "2  0.085299  0.050680  0.044451 -0.005671 -0.045599 -0.034194 -0.032356   \n",
      "3 -0.089063 -0.044642 -0.011595 -0.036656  0.012191  0.024991 -0.036038   \n",
      "4  0.005383 -0.044642 -0.036385  0.021872  0.003935  0.015596  0.008142   \n",
      "\n",
      "         s4        s5        s6  \n",
      "0 -0.002592  0.019908 -0.017646  \n",
      "1 -0.039493 -0.068330 -0.092204  \n",
      "2 -0.002592  0.002864 -0.025930  \n",
      "3  0.034309  0.022692 -0.009362  \n",
      "4 -0.002592 -0.031991 -0.046641  \n"
     ]
    }
   ],
   "source": [
    "# Transformação do dataset em dataframe do Pandas, procedimento necessário por se tratar de um método de regressão\n",
    "dataset = pd.DataFrame(diabetes_dataset.data, columns = diabetes_dataset.feature_names)\n",
    "print(dataset.head(5))"
   ]
  },
  {
   "cell_type": "code",
   "execution_count": 40,
   "metadata": {},
   "outputs": [
    {
     "name": "stdout",
     "output_type": "stream",
     "text": [
      "        age       sex       bmi        bp        s1        s2        s3  \\\n",
      "0  0.038076  0.050680  0.061696  0.021872 -0.044223 -0.034821 -0.043401   \n",
      "1 -0.001882 -0.044642 -0.051474 -0.026328 -0.008449 -0.019163  0.074412   \n",
      "2  0.085299  0.050680  0.044451 -0.005671 -0.045599 -0.034194 -0.032356   \n",
      "3 -0.089063 -0.044642 -0.011595 -0.036656  0.012191  0.024991 -0.036038   \n",
      "4  0.005383 -0.044642 -0.036385  0.021872  0.003935  0.015596  0.008142   \n",
      "\n",
      "         s4        s5        s6   MEDV  \n",
      "0 -0.002592  0.019908 -0.017646  151.0  \n",
      "1 -0.039493 -0.068330 -0.092204   75.0  \n",
      "2 -0.002592  0.002864 -0.025930  141.0  \n",
      "3  0.034309  0.022692 -0.009362  206.0  \n",
      "4 -0.002592 -0.031991 -0.046641  135.0  \n"
     ]
    }
   ],
   "source": [
    "# Adição do target nesse dataframe\n",
    "dataset['MEDV'] = diabetes_dataset.target\n",
    "\n",
    "print(dataset.head(5))"
   ]
  },
  {
   "cell_type": "markdown",
   "metadata": {},
   "source": [
    "### 2º Visualização e divisão dos dados"
   ]
  },
  {
   "cell_type": "markdown",
   "metadata": {},
   "source": [
    "#### Organizando dataset"
   ]
  },
  {
   "cell_type": "code",
   "execution_count": 41,
   "metadata": {},
   "outputs": [
    {
     "name": "stdout",
     "output_type": "stream",
     "text": [
      "<class 'numpy.ndarray'>\n"
     ]
    }
   ],
   "source": [
    "# Divisão habitual dos conjuntos entre 'features/atributos' e 'targets/saidas'\n",
    "array = dataset.values\n",
    "print(type(array))\n",
    "x = array[:,0:10]\n",
    "y = array[:,10]"
   ]
  },
  {
   "cell_type": "code",
   "execution_count": 42,
   "metadata": {},
   "outputs": [],
   "source": [
    "# divisão automatica dos dados\n",
    "from sklearn.model_selection import train_test_split\n",
    "\n",
    "X_train, X_test, Y_train, Y_test = train_test_split(x, y, test_size = 0.3)"
   ]
  },
  {
   "cell_type": "code",
   "execution_count": 43,
   "metadata": {},
   "outputs": [
    {
     "name": "stdout",
     "output_type": "stream",
     "text": [
      "Formato de X_train:  (309, 10)\n",
      "Formato de X_test:  (133, 10)\n",
      "Formato de Y_train:  (309,)\n",
      "Formato de Y_test:  (133,)\n"
     ]
    }
   ],
   "source": [
    "print(\"Formato de X_train: \", X_train.shape)\n",
    "print(\"Formato de X_test: \", X_test.shape)\n",
    "print(\"Formato de Y_train: \", Y_train.shape)\n",
    "print(\"Formato de Y_test: \", Y_test.shape)"
   ]
  },
  {
   "cell_type": "markdown",
   "metadata": {},
   "source": [
    "#### Visualizando dados"
   ]
  },
  {
   "cell_type": "code",
   "execution_count": 44,
   "metadata": {},
   "outputs": [
    {
     "data": {
      "image/png": "[encoded data removed]",
      "text/plain": [
       "<Figure size 720x720 with 2 Axes>"
      ]
     },
     "metadata": {},
     "output_type": "display_data"
    }
   ],
   "source": [
    "# Obtendo estatística de correlação\n",
    "corr = dataset.corr()\n",
    "\n",
    "# Gerando gráfico de 'heatmap' e plotando\n",
    "fig, ax = plt.subplots(figsize=(10,10))\n",
    "sns.heatmap(corr, cmap='RdBu', annot=True, fmt=\".2f\")\n",
    "\n",
    "# Definindo labels do gráfico\n",
    "plt.xticks(np.arange(len(corr.columns))+0.5, corr.columns, ha=\"center\")\n",
    "plt.yticks(np.arange(len(corr.columns))+0.5, corr.columns, va=\"center\")\n",
    "\n",
    "#show plt\n",
    "plt.show()"
   ]
  },
  {
   "cell_type": "markdown",
   "metadata": {},
   "source": [
    "### Mapa de correlações:\n",
    "\n",
    "<p>Correlação variando sempre de -1 a 1.</p> \n",
    "<p>Correlações em maior intensidade de azul significam forte correlação entre atributos. </p>\n",
    "<p>Correlações em maior intensidade de vermelho significam forte correlação inversa entre atributos.</p>"
   ]
  },
  {
   "cell_type": "markdown",
   "metadata": {},
   "source": [
    "### 3º Aprendizado e Avaliação do modelo"
   ]
  },
  {
   "cell_type": "code",
   "execution_count": 45,
   "metadata": {},
   "outputs": [],
   "source": [
    "# Importação de bibliotecas de funções de avaliação\n",
    "from sklearn.metrics import mean_squared_error\n",
    "from sklearn.model_selection import cross_val_score\n",
    "from sklearn.metrics import r2_score"
   ]
  },
  {
   "cell_type": "markdown",
   "metadata": {},
   "source": [
    "#### Modelo Polinomial Regressional de 2ª ordem"
   ]
  },
  {
   "cell_type": "code",
   "execution_count": 46,
   "metadata": {},
   "outputs": [],
   "source": [
    "from sklearn.preprocessing import PolynomialFeatures\n",
    "from sklearn.linear_model import LinearRegression"
   ]
  },
  {
   "cell_type": "code",
   "execution_count": 47,
   "metadata": {},
   "outputs": [
    {
     "data": {
      "text/plain": [
       "LinearRegression()"
      ]
     },
     "execution_count": 47,
     "metadata": {},
     "output_type": "execute_result"
    }
   ],
   "source": [
    "poly_reg = PolynomialFeatures(degree = 3)\n",
    "x_poly = poly_reg.fit_transform(X_train)\n",
    "poly_reg.fit(x_poly, Y_train)\n",
    "\n",
    "model_3 = LinearRegression()\n",
    "model_3.fit(x_poly, Y_train)"
   ]
  },
  {
   "cell_type": "code",
   "execution_count": 48,
   "metadata": {},
   "outputs": [
    {
     "name": "stdout",
     "output_type": "stream",
     "text": [
      "(309, 10)\n"
     ]
    }
   ],
   "source": [
    "print(X_train.shape)"
   ]
  },
  {
   "cell_type": "code",
   "execution_count": 49,
   "metadata": {},
   "outputs": [
    {
     "name": "stdout",
     "output_type": "stream",
     "text": [
      "(309, 286)\n"
     ]
    }
   ],
   "source": [
    "print(x_poly.shape)"
   ]
  },
  {
   "cell_type": "code",
   "execution_count": 50,
   "metadata": {},
   "outputs": [],
   "source": [
    "# Avaliação de desempenho de acurácia a partir do cross-validation\n",
    "cv_3 = cross_val_score(estimator=model_3, X=x_poly, y=Y_train, cv=10)\n",
    "\n",
    "# Calculo de desempenho utilizando métrica r2 (distancia quadratica de um valor até o valor real)\n",
    "y_pred_train_3 = model_3.predict(x_poly)\n",
    "r2_train_3 = r2_score(Y_train, y_pred_train_3)\n",
    "\n",
    "y_pred_test_3 = model_3.predict(poly_reg.fit_transform(X_test))\n",
    "r2_test_3 = r2_score(Y_test, y_pred_test_3)\n",
    "\n",
    "# Calculo de desempenho utilizando RMSE\n",
    "rmse_3 = (np.sqrt(mean_squared_error(Y_test, y_pred_test_3)))"
   ]
  },
  {
   "cell_type": "code",
   "execution_count": 51,
   "metadata": {},
   "outputs": [
    {
     "name": "stdout",
     "output_type": "stream",
     "text": [
      "Modelo Linear Regression\n",
      "CV:  -71800.5032092125\n",
      "R2 train:  0.8614051294103046\n",
      "R2 test:  -683.4253347330813\n",
      "RMSE:  2029.201580087986\n"
     ]
    }
   ],
   "source": [
    "# Exibição dos resultados\n",
    "print(\"Modelo Linear Regression\")\n",
    "print(\"CV: \", cv_3.mean())\n",
    "print(\"R2 train: \", r2_train_3)\n",
    "print(\"R2 test: \", r2_test_3)\n",
    "print(\"RMSE: \", rmse_3)"
   ]
  },
  {
   "cell_type": "code",
   "execution_count": 52,
   "metadata": {},
   "outputs": [
    {
     "data": {
      "text/plain": [
       "array([132.,  60., 120.,  96.,  52., 168., 112., 244., 120., 172., 296.,\n",
       "       176., 184.,  96., 148.,  56., 108., 184., 104., 280., 112., 116.,\n",
       "       304.,  96., 184., 116., 148., 100.,  68., 292., 108., 320., 128.,\n",
       "       200., 108., 100., 224.,  44., 112.,   4., 296., 100., 188., 132.,\n",
       "       232., 176., 204.,  76., 112.,  64., 216., 256., 316., 208., 132.,\n",
       "       172., 144.,  72.,  56.,  68.,  68., 120., 224.,   8.,  36.,  92.,\n",
       "       216., 260., 124.,  64.,  68., 232., 196., 256.,  80.,  12.,  80.,\n",
       "       244., 300., 116.,  48.,  88., 116., 244.,  80., 116.,  80.,  72.,\n",
       "       276., 196., 268.,  52.,  52., 192., 152., 160.,  92., 136.,  32.,\n",
       "       152., 116.,  88.,  48., 180., 156., 236., 220., 140., 224., 252.,\n",
       "        96., 260., 160., 248.,  96.,  80., 140., 284., 276., 148.,  68.,\n",
       "       196., 148., 184., 232.,  52., 124.,  84.,  24., 292.,  92., 164.,\n",
       "        56., 212., 328., 116., 124., 164., 140., 240.,  88., 116., 324.,\n",
       "       208.,  40., 276., 196., 176.,  56.,  52., 112., 188.,  64., 264.,\n",
       "       124., 204.,  52., 188., 216.,  52., 240.,  96.,  88., 168., 312.,\n",
       "        96.,  28.,  52., 120., 204., 140., 152., 148.,  72., 120., 256.,\n",
       "       200., 264.,  76., 256., 256.,  88., 188.,  20., 116., 136.,  68.,\n",
       "       284., 140., 220., 104., 268.,  52., 100., 124.,  56., 132., 116.,\n",
       "       128., 100.,  44., 168., 268., 172., 156., 148., 176., 176., 304.,\n",
       "        72.,  28., 192.,  84.,  76., 332., 120., 248., 260., 292.,  32.,\n",
       "       136., 248., 152., 156., 128.,  68.,  48.,  92.,  60., 148.,  64.,\n",
       "        60.,  72., 152., 216., 152., 148., 120., 260.,  92., 292.,  60.,\n",
       "        72., 184., 224., 128., 136., 276., 168., 180., 132., 140.,  44.,\n",
       "        56., 164.,  32.,  92., 140., 108.,  92., 192.,  44., 172., 112.,\n",
       "        56., 188.,  92., 148., 208., 180.,  92., 116.,  96., 320., 224.,\n",
       "       156.,  88., 200., 252.,  76.,  72.,  52.,  68.,  60., 308., 252.,\n",
       "       108., 224., 104., 160., 108.,  84., 124.,  92., 156., 116., 196.,\n",
       "       156.,  60., 140., 136.,  56., 148., 148., 100., 296., 132., 112.,\n",
       "       124.])"
      ]
     },
     "execution_count": 52,
     "metadata": {},
     "output_type": "execute_result"
    }
   ],
   "source": [
    "#Fazendo a predição com o modelo polinomial\n",
    "model_3.predict(x_poly)"
   ]
  }
 ],
 "metadata": {
  "kernelspec": {
   "display_name": "Python 3",
   "language": "python",
   "name": "python3"
  },
  "language_info": {
   "codemirror_mode": {
    "name": "ipython",
    "version": 3
   },
   "file_extension": ".py",
   "mimetype": "text/x-python",
   "name": "python",
   "nbconvert_exporter": "python",
   "pygments_lexer": "ipython3",
   "version": "3.9.1"
  }
 },
 "nbformat": 4,
 "nbformat_minor": 4
}
